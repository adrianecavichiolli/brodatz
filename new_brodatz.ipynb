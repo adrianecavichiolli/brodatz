{
 "cells": [
  {
   "cell_type": "code",
   "execution_count": null,
   "metadata": {},
   "outputs": [],
   "source": [
    "import numpy as np\n",
    "\n",
    "from brodatz.data_utils import process_file, process_file_some_classes, read_some_classes, save_model, read_train_test_sets, save_history\n",
    "from brodatz.utils import probas_to_classes, accuracy, curr_date\n",
    "from brodatz.visualization_utils import plot_image, plot, plot_history, plot_confusion_matrix\n",
    "\n",
    "from brodatz.models.keras_neural_net import KerasNeuralNetwork\n",
    "\n",
    "# for auto-reloading external modules\n",
    "# see http://stackoverflow.com/questions/1907993/autoreload-of-modules-in-ipython\n",
    "%load_ext autoreload\n",
    "%autoreload 2\n",
    "\n",
    "from keras import regularizers, optimizers, utils\n",
    "from keras.preprocessing.image import ImageDataGenerator"
   ]
  },
  {
   "cell_type": "code",
   "execution_count": null,
   "metadata": {},
   "outputs": [],
   "source": [
    "from tensorflow.python.client import device_lib\n",
    "# print(device_lib.list_local_devices())\n",
    "\n",
    "import os\n",
    "# os.environ[\"CUDA_DEVICE_ORDER\"]=\"PCI_BUS_ID\"   # see issue #152\n",
    "os.environ[\"CUDA_VISIBLE_DEVICES\"]=\"0\""
   ]
  },
  {
   "cell_type": "code",
   "execution_count": null,
   "metadata": {},
   "outputs": [],
   "source": [
    "# remove prefixes\n",
    "import os\n",
    "path = '/mnt/82db778e-0496-450c-9b25-d1e50a90e476/data/data4stas/01_data_cls'\n",
    "os.chdir(path)"
   ]
  },
  {
   "cell_type": "code",
   "execution_count": null,
   "metadata": {},
   "outputs": [],
   "source": [
    "classes_range = np.arange(0, 20)\n",
    "X_train, y_train, num_classes = process_file_some_classes('Alexander_cls_train.csv', classes_range)"
   ]
  },
  {
   "cell_type": "code",
   "execution_count": null,
   "metadata": {},
   "outputs": [],
   "source": [
    "classes_range = np.arange(0, 20)\n",
    "X_train, y_train, num_classes = read_some_classes('Alexander_cls_train.csv', classes_range)"
   ]
  },
  {
   "cell_type": "code",
   "execution_count": null,
   "metadata": {},
   "outputs": [],
   "source": [
    "plot_image(X_mean)"
   ]
  },
  {
   "cell_type": "code",
   "execution_count": null,
   "metadata": {},
   "outputs": [],
   "source": [
    "plot_image(X_train[10])"
   ]
  },
  {
   "cell_type": "code",
   "execution_count": null,
   "metadata": {},
   "outputs": [],
   "source": [
    "classes_range = np.arange(0, 20)\n",
    "X_train, y_train, num_classes = read_some_classes('Alexander_cls_train.csv', classes_range)\n",
    "X_test, y_test, num_classes = read_some_classes('Alexander_cls_test.csv', classes_range)\n",
    "\n",
    "X_train = X_train.astype('float') / 255\n",
    "X_mean = np.mean(X_train, axis=0)\n",
    "# X_std = np.std(X_train, axis=0)\n",
    "# X_train = (X_train - X_mean) / (X_std + 1e-7)\n",
    "X_train -= X_mean\n",
    "\n",
    "X_test = X_test.astype('float') / 255\n",
    "# X_test = (X_test - X_mean) / (X_std + 1e-7)\n",
    "X_test -= X_mean\n",
    "X_test = X_test[..., np.newaxis]\n",
    "\n",
    "y_train = utils.to_categorical(y_train, num_classes=num_classes)\n",
    "X_train = X_train[..., np.newaxis]\n",
    "\n",
    "mask = np.random.permutation(len(X_test))\n",
    "# X_train = X_train[mask]\n",
    "# y_train = y_train[mask]\n",
    "num_train = round(len(X_test) * 0.8)\n",
    "X_val = X_test[num_train:]\n",
    "y_val = y_test[num_train:]\n",
    "y_val = utils.to_categorical(y_val, num_classes=num_classes)\n",
    "\n",
    "# num_train = round(len(X_train) * 0.8)\n",
    "# X_val = X_train[num_train:]\n",
    "# y_val = y_train[num_train:]\n",
    "# X_train = X_train[:num_train]\n",
    "# y_train = y_train[:num_train]"
   ]
  },
  {
   "cell_type": "code",
   "execution_count": null,
   "metadata": {},
   "outputs": [],
   "source": [
    "train_filename = 'Alexander_cls_train.csv'\n",
    "test_filenames = ['Alexander_cls_test.csv',\n",
    "                  'Alexander_cls_test1.csv',\n",
    "                  'Alexander_cls_test2.csv',\n",
    "                  'Alexander_cls_test3.csv',\n",
    "                  'Alexander_cls_test4.csv']\n",
    "classes_range = np.arange(0, 111)\n",
    "X_train, y_train, num_classes, X_val, y_val, test_list = read_train_test_sets(train_filename, test_filenames, classes_range)"
   ]
  },
  {
   "cell_type": "code",
   "execution_count": null,
   "metadata": {},
   "outputs": [],
   "source": [
    "from brodatz.keras_overrides import CroppedImageDataGenerator"
   ]
  },
  {
   "cell_type": "code",
   "execution_count": null,
   "metadata": {},
   "outputs": [],
   "source": [
    "import json\n",
    "import pandas as pd\n",
    "import datetime\n",
    "\n",
    "def try_args(rotation_range, shear_range, shift_range, horizontal_flip, vertical_flip, zoom_range, fill_mode,\n",
    "             batch_size, epochs):\n",
    "    input_shape = X_train[0].shape\n",
    "    cropped_x = 30\n",
    "    cropped_y = 30\n",
    "    cropped_shape = (input_shape[0], input_shape[1] - 2 * cropped_x, input_shape[2] - 2 * cropped_y, input_shape[3])\n",
    "    \n",
    "    learning_rate = 0.01\n",
    "    regularizer = regularizers.l2(0.01)\n",
    "    optimizer = optimizers.SGD(lr=learning_rate, decay=1e-6, momentum=0.9, nesterov=True)\n",
    "   \n",
    "    net = KerasNeuralNetwork(input_shape, num_classes, regularizer=regularizer, optimizer=optimizer)\n",
    "    net.compile_model_7()\n",
    "    \n",
    "    datagen = CroppedImageDataGenerator(\n",
    "        rotation_range=rotation_range,\n",
    "        shear_range=np.pi * shear_range,\n",
    "        width_shift_range=shift_range,\n",
    "        height_shift_range=shift_range,\n",
    "        horizontal_flip=horizontal_flip,\n",
    "        vertical_flip=vertical_flip,\n",
    "        zoom_range=zoom_range,\n",
    "        fill_mode=fill_mode,\n",
    "        cropped_x=30,\n",
    "        cropped_y=30)\n",
    "    \n",
    "    train_start = datetime.datetime.now()\n",
    "    history = net.train(datagen, X_train, y_train, (X_val, y_val), epochs=epochs, batch_size=batch_size,)\n",
    "    train_finish = datetime.datetime.now()\n",
    "    train_duration = (train_finish - train_start).seconds\n",
    "    \n",
    "    model_name = curr_date() # name of the directory for model\n",
    "    root_directory = '/home/stanislau/repository/machine-learning/brodatz/results/'\n",
    "    directory_name = root_directory + curr_date()\n",
    "    if not os.path.exists(directory_name):\n",
    "        os.makedirs(directory_name) # create directory\n",
    "        \n",
    "    save_history(directory_name + '/loss.png', directory_name + '/accuracy.png', history) # save plots of loss and accuracy\n",
    "        \n",
    "    model_json = net.model.to_json()\n",
    "    with open(directory_name + \"/model.json\", \"w\") as json_file:\n",
    "        json_file.write(model_json) # save model to file\n",
    "        \n",
    "    utils.plot_model(net.model, to_file=directory_name + \"/model.png\", show_shapes=True) # save model png overview to file\n",
    "    \n",
    "    count_params = net.model.count_params() # number of model parameters\n",
    "    optimizer_json = json.dumps(optimizers.serialize(optimizer))\n",
    "    with open(directory_name + \"/optimizer.json\", \"w\") as json_file:\n",
    "        json_file.write(optimizer_json) # save optimizer to file\n",
    "\n",
    "    models_battles_filename = root_directory + 'models_battles.csv'\n",
    "    header = ['Model name', 'X_train', 'X_test', 'X_test1', 'X_test2', 'X_test3', 'X_test4',\n",
    "              'Epochs', 'Number of parameters', 'Batches', 'Learning rate', 'Train duration',\n",
    "              'Rotation range', 'Shear range', 'Shift range', 'Hor flip', 'Ver flip', 'Zoom range', 'Fill mode',\n",
    "              'Number of classes']\n",
    "    accuracies = [net.accuracy(X_test, y_test) for X_test, y_test, _ in [(X_train, y_train, num_classes)] + test_list]\n",
    "    data = [model_name]\n",
    "    data.extend(accuracies)\n",
    "    number_of_params = net.model.count_params()\n",
    "    data.extend([epochs, number_of_params, batch_size, learning_rate, train_duration])\n",
    "    data.extend([rotation_range, shear_range, shift_range, horizontal_flip, vertical_flip, zoom_range, fill_mode])\n",
    "    data.append(num_classes)\n",
    "    if not os.path.isfile(models_battles_filename):\n",
    "        df = pd.DataFrame([data], columns=header)\n",
    "        df.to_csv(models_battles_filename)\n",
    "    else:\n",
    "        with open(models_battles_filename, 'a') as f:\n",
    "            df = pd.DataFrame([data])\n",
    "            df.to_csv(f, header=False)\n",
    "\n",
    "rotation_ranges = [0, 45, 90, 135, 180]\n",
    "shear_ranges = [0, 0.2, 0.25, 1/3, 0.5, 0.75, 1]\n",
    "shift_ranges = [0.15, 0.3, 0.4, 0.45]\n",
    "horizontal_flips = [True, False]\n",
    "vertical_flips = [True, False]\n",
    "zoom_ranges = [0.2, 0.3, 0.5, 0.7, 0.9]\n",
    "fill_modes = ['reflect', 'nearest', 'wrap']\n",
    "\n",
    "rotation_range = rotation_ranges[1]\n",
    "shear_range = shear_ranges[0]\n",
    "shift_range = shift_ranges[2]\n",
    "horizontal_flip = horizontal_flips[1]\n",
    "vertical_flip = vertical_flips[1]\n",
    "zoom_range = zoom_ranges[2]\n",
    "fill_mode = fill_modes[0]\n",
    "batch_size = 64\n",
    "epochs = 100\n",
    "\n",
    "try_args(rotation_range, shear_range, shift_range, horizontal_flip, vertical_flip, zoom_range, fill_mode, batch_size, epochs)\n",
    "\n",
    "\n",
    "# for rotation_range in rotation_ranges:\n",
    "#     try_args(rotation_range, shear_range, shift_range, horizontal_flip, vertical_flip, zoom_range, fill_mode, batch_size, epochs)\n",
    "\n",
    "# for shear_range in shear_ranges:\n",
    "#     try_args(rotation_range, shear_range, shift_range, horizontal_flip, vertical_flip, zoom_range, fill_mode, batch_size, epochs)"
   ]
  },
  {
   "cell_type": "code",
   "execution_count": null,
   "metadata": {},
   "outputs": [],
   "source": [
    "input_shape = (200, 200, 1)\n",
    "\n",
    "learning_rate = 0.01\n",
    "\n",
    "regularizer = regularizers.l2(0.01)\n",
    "optimizer = optimizers.SGD(lr=learning_rate, decay=1e-7, momentum=0.9, nesterov=True)\n",
    "# optimizer = optimizers.Adam(lr=learning_rate, beta_1=0.9, beta_2=0.999, epsilon=1e-08, decay=0.0)\n",
    "\n",
    "net = KerasNeuralNetwork(input_shape, num_classes, regularizer=regularizer, optimizer=optimizer)\n",
    "net.compile_model_5()"
   ]
  },
  {
   "cell_type": "code",
   "execution_count": null,
   "metadata": {
    "scrolled": true
   },
   "outputs": [],
   "source": [
    "history = net.train(X_train, y_train, (X_val, y_val), epochs=100, batch_size=256, )"
   ]
  },
  {
   "cell_type": "code",
   "execution_count": null,
   "metadata": {},
   "outputs": [],
   "source": [
    "plot_history(history)"
   ]
  },
  {
   "cell_type": "code",
   "execution_count": null,
   "metadata": {
    "scrolled": true
   },
   "outputs": [],
   "source": [
    "net.model.summary()"
   ]
  },
  {
   "cell_type": "code",
   "execution_count": null,
   "metadata": {},
   "outputs": [],
   "source": [
    "model_name = curr_date()"
   ]
  },
  {
   "cell_type": "code",
   "execution_count": null,
   "metadata": {},
   "outputs": [],
   "source": [
    "root_directory = '/home/stanislau/repository/machine-learning/brodatz/results/'\n",
    "directory_name = root_directory + curr_date()"
   ]
  },
  {
   "cell_type": "code",
   "execution_count": null,
   "metadata": {},
   "outputs": [],
   "source": [
    "if not os.path.exists(directory_name):\n",
    "    os.makedirs(directory_name)"
   ]
  },
  {
   "cell_type": "code",
   "execution_count": null,
   "metadata": {},
   "outputs": [],
   "source": [
    "model_json = net.model.to_json()\n",
    "with open(directory_name + \"/model.json\", \"w\") as json_file:\n",
    "    json_file.write(model_json)"
   ]
  },
  {
   "cell_type": "code",
   "execution_count": null,
   "metadata": {},
   "outputs": [],
   "source": [
    "utils.plot_model(net.model, to_file=directory_name + \"/model.png\", show_shapes=True)"
   ]
  },
  {
   "cell_type": "code",
   "execution_count": null,
   "metadata": {},
   "outputs": [],
   "source": [
    "accuracies = [net.accuracy(X_test, y_test) for X_test, y_test, _ in [(X_train, y_train, num_classes)] + test_list]"
   ]
  },
  {
   "cell_type": "code",
   "execution_count": null,
   "metadata": {},
   "outputs": [],
   "source": [
    "accuracies"
   ]
  },
  {
   "cell_type": "code",
   "execution_count": null,
   "metadata": {},
   "outputs": [],
   "source": []
  }
 ],
 "metadata": {
  "kernelspec": {
   "display_name": "Python 3",
   "language": "python",
   "name": "python3"
  },
  "language_info": {
   "codemirror_mode": {
    "name": "ipython",
    "version": 3
   },
   "file_extension": ".py",
   "mimetype": "text/x-python",
   "name": "python",
   "nbconvert_exporter": "python",
   "pygments_lexer": "ipython3",
   "version": "3.5.2"
  }
 },
 "nbformat": 4,
 "nbformat_minor": 2
}
