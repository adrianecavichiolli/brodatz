{
 "cells": [
  {
   "cell_type": "code",
   "execution_count": 1,
   "metadata": {
    "collapsed": false
   },
   "outputs": [
    {
     "name": "stderr",
     "output_type": "stream",
     "text": [
      "Using TensorFlow backend.\n"
     ]
    }
   ],
   "source": [
    "import csv\n",
    "import numpy as np\n",
    "import pandas as pd\n",
    "\n",
    "import cv2\n",
    "\n",
    "import keras\n",
    "from keras import regularizers\n",
    "from keras.models import Sequential\n",
    "from keras.layers import Dense, Dropout, Flatten, Embedding\n",
    "from keras.layers import Conv2D, MaxPooling2D\n",
    "from keras.optimizers import SGD\n",
    "from keras.preprocessing.image import ImageDataGenerator\n"
   ]
  },
  {
   "cell_type": "code",
   "execution_count": 2,
   "metadata": {
    "collapsed": true
   },
   "outputs": [],
   "source": [
    "# remove prefixes\n",
    "import os\n",
    "path = '/Users/take5v/Repository/data/data4stas/01_data_cls/'\n",
    "os.chdir(path)"
   ]
  },
  {
   "cell_type": "code",
   "execution_count": null,
   "metadata": {
    "collapsed": false
   },
   "outputs": [],
   "source": [
    "tbCallBack = keras.callbacks.TensorBoard(log_dir='./logs', histogram_freq=0, batch_size=32, write_graph=True, write_grads=False, write_images=False, embeddings_freq=0, embeddings_layer_names=None, embeddings_metadata=None)"
   ]
  },
  {
   "cell_type": "code",
   "execution_count": 21,
   "metadata": {
    "collapsed": false
   },
   "outputs": [],
   "source": [
    "def process_file(path):\n",
    "    df = pd.read_csv(path)\n",
    "    \n",
    "    x = []\n",
    "    y = []\n",
    "\n",
    "    for index, row in df.iterrows():\n",
    "        x.append(cv2.imread(row['FilePath'], cv2.IMREAD_GRAYSCALE))\n",
    "        y.append(float(row['ClassId']))\n",
    "\n",
    "    x = np.array(x)\n",
    "    y = np.array(y)\n",
    "    \n",
    "    num_classes = len(np.unique(y))\n",
    "\n",
    "    x = x.reshape(x.shape + (-1,))\n",
    "    y = y - 1\n",
    "    y = keras.utils.to_categorical(y, num_classes=num_classes)\n",
    "\n",
    "    return x, y, num_classes\n",
    "            \n",
    "\n",
    "def process_line(line):\n",
    "    pass\n",
    "\n",
    "def generate_arrays_from_file(path):\n",
    "    df = pd.read_csv(path)\n",
    "    \n",
    "    while 1:\n",
    "        f = open(path)\n",
    "        for line in f:\n",
    "            # create numpy arrays of input data\n",
    "            # and labels, from each line in the file\n",
    "            x1, x2, y = process_line(line)\n",
    "            yield ({'input_1': x1, 'input_2': x2}, {'output': y})\n",
    "        f.close()"
   ]
  },
  {
   "cell_type": "code",
   "execution_count": 4,
   "metadata": {
    "collapsed": false,
    "scrolled": true
   },
   "outputs": [
    {
     "name": "stdout",
     "output_type": "stream",
     "text": [
      "111\n"
     ]
    }
   ],
   "source": [
    "x, y, num_classes = process_file('Alexander_cls_train.csv')"
   ]
  },
  {
   "cell_type": "code",
   "execution_count": 14,
   "metadata": {
    "collapsed": true
   },
   "outputs": [],
   "source": [
    "datagen = ImageDataGenerator(\n",
    "    featurewise_center=True,\n",
    "    featurewise_std_normalization=True,\n",
    "    rotation_range=20,\n",
    "    width_shift_range=0.2,\n",
    "    height_shift_range=0.2)\n",
    "#     horizontal_flip=True,\n",
    "#     fill_mode='nearest')"
   ]
  },
  {
   "cell_type": "code",
   "execution_count": 15,
   "metadata": {
    "collapsed": false
   },
   "outputs": [],
   "source": [
    "datagen.fit(x)"
   ]
  },
  {
   "cell_type": "code",
   "execution_count": null,
   "metadata": {
    "collapsed": false
   },
   "outputs": [],
   "source": [
    "%pylab inline"
   ]
  },
  {
   "cell_type": "code",
   "execution_count": 16,
   "metadata": {
    "collapsed": false
   },
   "outputs": [],
   "source": [
    "model = Sequential()\n",
    "# input: 200x200 grayscale images -> (200, 200, 1) tensors.\n",
    "# this applies 8 convolution filters of size 3x3 each.\n",
    "model.add(Conv2D(8, (2, 2), activation='relu', kernel_regularizer=regularizers.l2(0.01), input_shape=(200, 200, 1)))\n",
    "model.add(MaxPooling2D(pool_size=(2, 2)))\n",
    "\n",
    "model.add(Conv2D(16, (2, 2), kernel_regularizer=regularizers.l2(0.01), activation='relu'))\n",
    "model.add(MaxPooling2D(pool_size=(2, 2)))\n",
    "# model.add(Dropout(0.25))\n",
    "\n",
    "model.add(Conv2D(32, (2, 2), kernel_regularizer=regularizers.l2(0.01), activation='relu'))\n",
    "model.add(MaxPooling2D(pool_size=(2, 2)))\n",
    "# model.add(Dropout(0.25))\n",
    "\n",
    "model.add(Conv2D(64, (2, 2), kernel_regularizer=regularizers.l2(0.01), activation='relu'))\n",
    "model.add(MaxPooling2D(pool_size=(2, 2)))\n",
    "# # model.add(Dropout(0.25))\n",
    "\n",
    "model.add(Conv2D(128, (2, 2), kernel_regularizer=regularizers.l2(0.01), activation='relu'))\n",
    "model.add(MaxPooling2D(pool_size=(2, 2)))\n",
    "# model.add(Dropout(0.25))\n",
    "\n",
    "# model.add(Conv2D(256, (2, 2), activation='relu'))\n",
    "# model.add(MaxPooling2D(pool_size=(2, 2)))\n",
    "\n",
    "model.add(Flatten())\n",
    "# model.add(Dense(2048, activation='relu'))\n",
    "# model.add(Dropout(0.5))\n",
    "model.add(Dense(num_classes, kernel_regularizer=regularizers.l2(0.01), activation='softmax'), )\n",
    "\n",
    "# sgd = SGD(lr=0.01, decay=1e-6, momentum=0.9, nesterov=True)\n",
    "model.compile(loss='categorical_crossentropy', optimizer='adam', metrics=['accuracy'])\n"
   ]
  },
  {
   "cell_type": "code",
   "execution_count": null,
   "metadata": {
    "collapsed": false,
    "scrolled": true
   },
   "outputs": [],
   "source": [
    "# model.fit(x, y, batch_size=8, epochs=10, validation_data=(x_train, y_train))\n",
    "model.fit(x, y, batch_size=32, epochs=10)"
   ]
  },
  {
   "cell_type": "code",
   "execution_count": 18,
   "metadata": {
    "collapsed": false
   },
   "outputs": [
    {
     "name": "stdout",
     "output_type": "stream",
     "text": [
      "Epoch 1/100\n",
      "17/17 [==============================] - 5s - loss: 7.5364 - acc: 0.0055     \n",
      "Epoch 2/100\n",
      "17/17 [==============================] - 4s - loss: 6.0702 - acc: 0.0221     \n",
      "Epoch 3/100\n",
      "17/17 [==============================] - 4s - loss: 5.4098 - acc: 0.0125     \n",
      "Epoch 4/100\n",
      "17/17 [==============================] - 4s - loss: 5.1102 - acc: 0.0092     \n",
      "Epoch 5/100\n",
      "17/17 [==============================] - 4s - loss: 4.9310 - acc: 0.0074     \n",
      "Epoch 6/100\n",
      "17/17 [==============================] - 5s - loss: 4.7698 - acc: 0.0147     \n",
      "Epoch 7/100\n",
      "17/17 [==============================] - 4s - loss: 4.5978 - acc: 0.0166     \n",
      "Epoch 8/100\n",
      "17/17 [==============================] - 4s - loss: 4.4377 - acc: 0.0184     \n",
      "Epoch 9/100\n",
      "17/17 [==============================] - 4s - loss: 4.4450 - acc: 0.0332     \n",
      "Epoch 10/100\n",
      "17/17 [==============================] - 4s - loss: 4.2994 - acc: 0.0461     \n",
      "Epoch 11/100\n",
      "17/17 [==============================] - 4s - loss: 4.2316 - acc: 0.0531     \n",
      "Epoch 12/100\n",
      "17/17 [==============================] - 4s - loss: 4.2166 - acc: 0.0368     \n",
      "Epoch 13/100\n",
      "17/17 [==============================] - 4s - loss: 4.1431 - acc: 0.0534     \n",
      "Epoch 14/100\n",
      "17/17 [==============================] - 4s - loss: 4.0683 - acc: 0.0770     \n",
      "Epoch 15/100\n",
      "17/17 [==============================] - 4s - loss: 4.0296 - acc: 0.0682     \n",
      "Epoch 16/100\n",
      "17/17 [==============================] - 4s - loss: 4.0339 - acc: 0.0752     \n",
      "Epoch 17/100\n",
      "17/17 [==============================] - 4s - loss: 3.9176 - acc: 0.1010     \n",
      "Epoch 18/100\n",
      "17/17 [==============================] - 4s - loss: 3.9483 - acc: 0.0590     \n",
      "Epoch 19/100\n",
      "17/17 [==============================] - 4s - loss: 3.9129 - acc: 0.0809     \n",
      "Epoch 20/100\n",
      "17/17 [==============================] - 5s - loss: 3.8042 - acc: 0.1087     \n",
      "Epoch 21/100\n",
      "17/17 [==============================] - 5s - loss: 3.8137 - acc: 0.1087     \n",
      "Epoch 22/100\n",
      "17/17 [==============================] - 5s - loss: 3.8147 - acc: 0.1142     \n",
      "Epoch 23/100\n",
      "17/17 [==============================] - 5s - loss: 3.8966 - acc: 0.0958     \n",
      "Epoch 24/100\n",
      "17/17 [==============================] - 5s - loss: 3.7478 - acc: 0.1098     \n",
      "Epoch 25/100\n",
      "17/17 [==============================] - 4s - loss: 3.7464 - acc: 0.1268     \n",
      "Epoch 26/100\n",
      "17/17 [==============================] - 4s - loss: 3.7267 - acc: 0.1448     \n",
      "Epoch 27/100\n",
      "17/17 [==============================] - 4s - loss: 3.7678 - acc: 0.1175     \n",
      "Epoch 28/100\n",
      "17/17 [==============================] - 4s - loss: 3.6873 - acc: 0.1301     \n",
      "Epoch 29/100\n",
      "17/17 [==============================] - 4s - loss: 3.6087 - acc: 0.1430     \n",
      "Epoch 30/100\n",
      "17/17 [==============================] - 4s - loss: 3.6104 - acc: 0.1673     \n",
      "Epoch 31/100\n",
      "17/17 [==============================] - 5s - loss: 3.6408 - acc: 0.1455     \n",
      "Epoch 32/100\n",
      "17/17 [==============================] - 4s - loss: 3.7148 - acc: 0.1651     \n",
      "Epoch 33/100\n",
      "17/17 [==============================] - 4s - loss: 3.5914 - acc: 0.1739     \n",
      "Epoch 34/100\n",
      "17/17 [==============================] - 4s - loss: 3.6227 - acc: 0.1599     \n",
      "Epoch 35/100\n",
      "17/17 [==============================] - 4s - loss: 3.6585 - acc: 0.1551     \n",
      "Epoch 36/100\n",
      "17/17 [==============================] - 4s - loss: 3.5130 - acc: 0.1581     \n",
      "Epoch 37/100\n",
      "17/17 [==============================] - 4s - loss: 3.5687 - acc: 0.1765     \n",
      "Epoch 38/100\n",
      "17/17 [==============================] - 4s - loss: 3.5723 - acc: 0.1599     \n",
      "Epoch 39/100\n",
      "17/17 [==============================] - 4s - loss: 3.6103 - acc: 0.1713     \n",
      "Epoch 40/100\n",
      "17/17 [==============================] - 4s - loss: 3.4710 - acc: 0.2093     \n",
      "Epoch 41/100\n",
      "17/17 [==============================] - 4s - loss: 3.6218 - acc: 0.1842     \n",
      "Epoch 42/100\n",
      "17/17 [==============================] - 4s - loss: 3.4730 - acc: 0.2148     \n",
      "Epoch 43/100\n",
      "17/17 [==============================] - 5s - loss: 3.3699 - acc: 0.2332     \n",
      "Epoch 44/100\n",
      "17/17 [==============================] - 4s - loss: 3.4463 - acc: 0.2093     \n",
      "Epoch 45/100\n",
      "17/17 [==============================] - 4s - loss: 3.4404 - acc: 0.2041     \n",
      "Epoch 46/100\n",
      "17/17 [==============================] - 4s - loss: 3.5173 - acc: 0.1909     \n",
      "Epoch 47/100\n",
      "17/17 [==============================] - 4s - loss: 3.4497 - acc: 0.1872     \n",
      "Epoch 48/100\n",
      "17/17 [==============================] - 4s - loss: 3.4451 - acc: 0.2015     \n",
      "Epoch 49/100\n",
      "17/17 [==============================] - 4s - loss: 3.3929 - acc: 0.2163     \n",
      "Epoch 50/100\n",
      "17/17 [==============================] - 4s - loss: 3.4198 - acc: 0.2038     \n",
      "Epoch 51/100\n",
      "17/17 [==============================] - 4s - loss: 3.3245 - acc: 0.1942     \n",
      "Epoch 52/100\n",
      "17/17 [==============================] - 4s - loss: 3.3976 - acc: 0.1997     \n",
      "Epoch 53/100\n",
      "17/17 [==============================] - 5s - loss: 3.3823 - acc: 0.2273     \n",
      "Epoch 54/100\n",
      "17/17 [==============================] - 4s - loss: 3.3114 - acc: 0.2343     \n",
      "Epoch 55/100\n",
      "17/17 [==============================] - 4s - loss: 3.3400 - acc: 0.2243     \n",
      "Epoch 56/100\n",
      "17/17 [==============================] - 4s - loss: 3.4853 - acc: 0.2354     \n",
      "Epoch 57/100\n",
      "17/17 [==============================] - 4s - loss: 3.4179 - acc: 0.2380     \n",
      "Epoch 58/100\n",
      "17/17 [==============================] - 4s - loss: 3.2904 - acc: 0.2432     \n",
      "Epoch 59/100\n",
      "17/17 [==============================] - 4s - loss: 3.1860 - acc: 0.2642     \n",
      "Epoch 60/100\n",
      "17/17 [==============================] - 4s - loss: 3.3198 - acc: 0.2358     \n",
      "Epoch 61/100\n",
      "17/17 [==============================] - 4s - loss: 3.2914 - acc: 0.2421     \n",
      "Epoch 62/100\n",
      "17/17 [==============================] - 5s - loss: 3.2696 - acc: 0.2413     \n",
      "Epoch 63/100\n",
      "17/17 [==============================] - 5s - loss: 3.2397 - acc: 0.2590     \n",
      "Epoch 64/100\n",
      "17/17 [==============================] - 4s - loss: 3.2683 - acc: 0.2428     \n",
      "Epoch 65/100\n",
      "17/17 [==============================] - 4s - loss: 3.2152 - acc: 0.2679     \n",
      "Epoch 66/100\n",
      "17/17 [==============================] - 4s - loss: 3.1802 - acc: 0.2738     \n",
      "Epoch 67/100\n",
      "17/17 [==============================] - 4s - loss: 3.3337 - acc: 0.2281     \n",
      "Epoch 68/100\n",
      "17/17 [==============================] - 4s - loss: 3.3718 - acc: 0.2027     \n",
      "Epoch 69/100\n",
      "17/17 [==============================] - 4s - loss: 3.2471 - acc: 0.2775     \n",
      "Epoch 70/100\n",
      "17/17 [==============================] - 4s - loss: 3.3151 - acc: 0.2679     \n",
      "Epoch 71/100\n",
      "17/17 [==============================] - 4s - loss: 3.2579 - acc: 0.2915     \n",
      "Epoch 72/100\n",
      "17/17 [==============================] - 5s - loss: 3.1989 - acc: 0.2841     \n",
      "Epoch 73/100\n",
      "17/17 [==============================] - 4s - loss: 3.2436 - acc: 0.2684     \n",
      "Epoch 74/100\n",
      "17/17 [==============================] - 4s - loss: 3.2843 - acc: 0.2443     \n",
      "Epoch 75/100\n",
      "17/17 [==============================] - 5s - loss: 3.1729 - acc: 0.2903     \n",
      "Epoch 76/100\n",
      "17/17 [==============================] - 4s - loss: 3.2624 - acc: 0.2561     \n",
      "Epoch 77/100\n",
      "17/17 [==============================] - 4s - loss: 3.1220 - acc: 0.2915     \n",
      "Epoch 78/100\n",
      "17/17 [==============================] - 4s - loss: 3.2255 - acc: 0.2535     \n",
      "Epoch 79/100\n",
      "17/17 [==============================] - 5s - loss: 3.1600 - acc: 0.2973     \n",
      "Epoch 80/100\n",
      "17/17 [==============================] - 4s - loss: 3.1851 - acc: 0.2981     \n",
      "Epoch 81/100\n",
      "17/17 [==============================] - 4s - loss: 3.1771 - acc: 0.3121     \n",
      "Epoch 82/100\n",
      "17/17 [==============================] - 5s - loss: 3.0460 - acc: 0.3055     \n",
      "Epoch 83/100\n",
      "17/17 [==============================] - 5s - loss: 2.9748 - acc: 0.3795     \n",
      "Epoch 84/100\n",
      "17/17 [==============================] - 5s - loss: 3.0470 - acc: 0.3265     \n",
      "Epoch 85/100\n",
      "17/17 [==============================] - 5s - loss: 3.0045 - acc: 0.3615     \n",
      "Epoch 86/100\n",
      "17/17 [==============================] - 5s - loss: 2.9785 - acc: 0.3467     \n",
      "Epoch 87/100\n",
      "17/17 [==============================] - 5s - loss: 2.9624 - acc: 0.3482     \n",
      "Epoch 88/100\n",
      "17/17 [==============================] - 4s - loss: 3.0448 - acc: 0.3346     \n",
      "Epoch 89/100\n",
      "17/17 [==============================] - 4s - loss: 2.8922 - acc: 0.3600     \n",
      "Epoch 90/100\n",
      "17/17 [==============================] - 4s - loss: 2.9705 - acc: 0.3449     \n",
      "Epoch 91/100\n",
      "17/17 [==============================] - 4s - loss: 3.0004 - acc: 0.3474     \n",
      "Epoch 92/100\n",
      "17/17 [==============================] - 4s - loss: 2.9247 - acc: 0.3733     \n",
      "Epoch 93/100\n",
      "17/17 [==============================] - 4s - loss: 2.8292 - acc: 0.3648     \n",
      "Epoch 94/100\n",
      "17/17 [==============================] - 4s - loss: 2.7919 - acc: 0.4182     \n",
      "Epoch 95/100\n",
      "17/17 [==============================] - 4s - loss: 2.9102 - acc: 0.3917     \n",
      "Epoch 96/100\n",
      "17/17 [==============================] - 4s - loss: 2.6786 - acc: 0.4440     \n",
      "Epoch 97/100\n",
      "17/17 [==============================] - 4s - loss: 2.7134 - acc: 0.4492     \n",
      "Epoch 98/100\n",
      "17/17 [==============================] - 4s - loss: 2.7961 - acc: 0.4149     \n",
      "Epoch 99/100\n",
      "17/17 [==============================] - 4s - loss: 2.6816 - acc: 0.4444     \n",
      "Epoch 100/100\n",
      "17/17 [==============================] - 4s - loss: 2.7164 - acc: 0.4182     \n"
     ]
    },
    {
     "data": {
      "text/plain": [
       "<keras.callbacks.History at 0x1395bfed0>"
      ]
     },
     "execution_count": 18,
     "metadata": {},
     "output_type": "execute_result"
    }
   ],
   "source": [
    "model.fit_generator(datagen.flow(x, y, batch_size=32),\n",
    "                    steps_per_epoch=len(x) / 32, epochs=100)"
   ]
  },
  {
   "cell_type": "code",
   "execution_count": 24,
   "metadata": {
    "collapsed": false
   },
   "outputs": [
    {
     "name": "stdout",
     "output_type": "stream",
     "text": [
      "Alexander_cls_train.csv : 2.2116484642, 0.589189171791\n",
      "Alexander_cls_test.csv : 5.94432592392, 0.137837842107\n",
      "Alexander_cls_test1.csv : 3.66049623489, 0.273873865604\n",
      "Alexander_cls_test2.csv : 10.0317344666, 0.00900900922716\n",
      "Alexander_cls_test3.csv : 5.43000793457, 0.124324321747\n",
      "Alexander_cls_test4.csv : 4.86528301239, 0.13873873651\n"
     ]
    }
   ],
   "source": [
    "test_datagen = ImageDataGenerator(\n",
    "    featurewise_center=True,\n",
    "    featurewise_std_normalization=True\n",
    ")\n",
    "\n",
    "test_paths = ['Alexander_cls_train.csv',\n",
    "             'Alexander_cls_test.csv',\n",
    "             'Alexander_cls_test1.csv',\n",
    "             'Alexander_cls_test2.csv',\n",
    "             'Alexander_cls_test3.csv',\n",
    "             'Alexander_cls_test4.csv']\n",
    "\n",
    "for test_path in test_paths:\n",
    "    x_test, y_test, num_classes = process_file(test_path)\n",
    "    test_datagen.fit(x_test)\n",
    "    score = model.evaluate_generator(test_datagen.flow(x_test, y_test, batch_size=len(x_test)), steps=1)\n",
    "    print test_path + ' : ' + ', '.join(str(x) for x in score)"
   ]
  },
  {
   "cell_type": "code",
   "execution_count": null,
   "metadata": {
    "collapsed": false
   },
   "outputs": [],
   "source": [
    "model.evaluate(x, y, batch_size=32)"
   ]
  },
  {
   "cell_type": "code",
   "execution_count": null,
   "metadata": {
    "collapsed": true
   },
   "outputs": [],
   "source": [
    "y_predict = model.predict(x_train, batch_size=32)"
   ]
  },
  {
   "cell_type": "code",
   "execution_count": null,
   "metadata": {
    "collapsed": false,
    "scrolled": true
   },
   "outputs": [],
   "source": [
    "np.unique(np.argmax(y_predict, axis=1))"
   ]
  },
  {
   "cell_type": "code",
   "execution_count": 17,
   "metadata": {
    "collapsed": false
   },
   "outputs": [
    {
     "name": "stdout",
     "output_type": "stream",
     "text": [
      "_________________________________________________________________\n",
      "Layer (type)                 Output Shape              Param #   \n",
      "=================================================================\n",
      "conv2d_7 (Conv2D)            (None, 199, 199, 8)       40        \n",
      "_________________________________________________________________\n",
      "max_pooling2d_7 (MaxPooling2 (None, 99, 99, 8)         0         \n",
      "_________________________________________________________________\n",
      "conv2d_8 (Conv2D)            (None, 98, 98, 16)        528       \n",
      "_________________________________________________________________\n",
      "max_pooling2d_8 (MaxPooling2 (None, 49, 49, 16)        0         \n",
      "_________________________________________________________________\n",
      "conv2d_9 (Conv2D)            (None, 48, 48, 32)        2080      \n",
      "_________________________________________________________________\n",
      "max_pooling2d_9 (MaxPooling2 (None, 24, 24, 32)        0         \n",
      "_________________________________________________________________\n",
      "conv2d_10 (Conv2D)           (None, 23, 23, 64)        8256      \n",
      "_________________________________________________________________\n",
      "max_pooling2d_10 (MaxPooling (None, 11, 11, 64)        0         \n",
      "_________________________________________________________________\n",
      "conv2d_11 (Conv2D)           (None, 10, 10, 128)       32896     \n",
      "_________________________________________________________________\n",
      "max_pooling2d_11 (MaxPooling (None, 5, 5, 128)         0         \n",
      "_________________________________________________________________\n",
      "flatten_3 (Flatten)          (None, 3200)              0         \n",
      "_________________________________________________________________\n",
      "dense_3 (Dense)              (None, 111)               355311    \n",
      "=================================================================\n",
      "Total params: 399,111\n",
      "Trainable params: 399,111\n",
      "Non-trainable params: 0\n",
      "_________________________________________________________________\n"
     ]
    }
   ],
   "source": [
    "model.summary()"
   ]
  },
  {
   "cell_type": "code",
   "execution_count": null,
   "metadata": {
    "collapsed": true
   },
   "outputs": [],
   "source": [
    "# спросить про 500 samples на класс (хорошо, но можно оверфитнуться)\n",
    "# когда 50 сэмплов хорошо, обычно плохо"
   ]
  }
 ],
 "metadata": {
  "kernelspec": {
   "display_name": "Python 2",
   "language": "python",
   "name": "python2"
  },
  "language_info": {
   "codemirror_mode": {
    "name": "ipython",
    "version": 2
   },
   "file_extension": ".py",
   "mimetype": "text/x-python",
   "name": "python",
   "nbconvert_exporter": "python",
   "pygments_lexer": "ipython2",
   "version": "2.7.13"
  }
 },
 "nbformat": 4,
 "nbformat_minor": 0
}
